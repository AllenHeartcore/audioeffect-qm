{
 "cells": [
  {
   "cell_type": "code",
   "execution_count": 1,
   "metadata": {},
   "outputs": [],
   "source": [
    "import json\n",
    "import os\n",
    "import requests\n",
    "import zipfile\n",
    "\n",
    "from datetime import datetime"
   ]
  },
  {
   "cell_type": "code",
   "execution_count": 2,
   "metadata": {},
   "outputs": [
    {
     "data": {
      "text/plain": [
       "'d:\\\\tmp\\\\_reveng\\\\audioeffect-qm'"
      ]
     },
     "execution_count": 2,
     "metadata": {},
     "output_type": "execute_result"
    }
   ],
   "source": [
    "os.getcwd()"
   ]
  },
  {
   "cell_type": "code",
   "execution_count": 15,
   "metadata": {},
   "outputs": [],
   "source": [
    "os.chdir('..')"
   ]
  },
  {
   "cell_type": "code",
   "execution_count": 3,
   "metadata": {},
   "outputs": [
    {
     "name": "stdout",
     "output_type": "stream",
     "text": [
      "Downloading 0047-沉浸人声.zip\n",
      "Extracting 0047-沉浸人声.zip\n",
      "Downloading 0046-演唱现场.zip\n",
      "Extracting 0046-演唱现场.zip\n",
      "Downloading 0044-酒吧DJ舞曲动感节奏.zip\n",
      "Downloading 0043-超人电话亭.zip\n",
      "Extracting 0043-超人电话亭.zip\n",
      "Downloading 0038-绵言细语.zip\n",
      "Extracting 0038-绵言细语.zip\n",
      "Downloading 0045-人声现场.zip\n",
      "Downloading 0039-咚咚鼓声.zip\n",
      "Extracting 0039-咚咚鼓声.zip\n",
      "Downloading 0037-沉浸式车内环境重现.zip\n",
      "Downloading 0036-冰冷的房间.zip\n",
      "Downloading 0035-老式收音机.zip\n",
      "Extracting 0035-老式收音机.zip\n",
      "Downloading 0034-超宽环绕音域.zip\n",
      "Extracting 0034-超宽环绕音域.zip\n"
     ]
    }
   ],
   "source": [
    "src = 'resae/ugc.json'\n",
    "d = json.load(open(src))\n",
    "\n",
    "dst = os.path.splitext(src)[0]\n",
    "os.makedirs(dst, exist_ok=True)\n",
    "os.chdir(dst)\n",
    "\n",
    "for ae in d['ugcAudioEffectItems']:\n",
    "\n",
    "    ae_id = ae['effectId']\n",
    "    ae_name = ae['effectName']\n",
    "    ae_url = ae['effectDownloadLink']\n",
    "    ae_ts = datetime.strptime(ae['createTime'], '%Y-%m-%d %H:%M:%S').timestamp()\n",
    "    target = f'{ae_id:04d}-{ae_name}.zip'\n",
    "\n",
    "    print('Downloading', target)\n",
    "    response = requests.get(ae_url)\n",
    "    with open(target, 'wb') as f:\n",
    "        f.write(response.content)\n",
    "    os.utime(target, (ae_ts, ae_ts))\n",
    "\n",
    "    with zipfile.ZipFile(target, 'r') as fzip:\n",
    "        if len(fzip.namelist()) != 2:\n",
    "            continue\n",
    "        print('Extracting', target)\n",
    "        fzip.extractall()\n",
    "\n",
    "    try:\n",
    "        target_new = f'{ae_id:04d}-{ae_name}.qmaep'\n",
    "        os.rename('AudioEffectPackage/AudioEffect.qmaep', target_new)\n",
    "        os.utime(target_new, (ae_ts, ae_ts))\n",
    "        os.remove(target)\n",
    "    except:\n",
    "        pass\n",
    "\n",
    "# os.remove('AudioEffectPackage')\n",
    "os.chdir('../..')"
   ]
  },
  {
   "cell_type": "code",
   "execution_count": null,
   "metadata": {},
   "outputs": [],
   "source": []
  }
 ],
 "metadata": {
  "kernelspec": {
   "display_name": "base",
   "language": "python",
   "name": "python3"
  },
  "language_info": {
   "codemirror_mode": {
    "name": "ipython",
    "version": 3
   },
   "file_extension": ".py",
   "mimetype": "text/x-python",
   "name": "python",
   "nbconvert_exporter": "python",
   "pygments_lexer": "ipython3",
   "version": "3.12.4"
  }
 },
 "nbformat": 4,
 "nbformat_minor": 2
}

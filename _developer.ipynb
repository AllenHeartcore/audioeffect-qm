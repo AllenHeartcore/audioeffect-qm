{
 "cells": [
  {
   "cell_type": "code",
   "execution_count": 6,
   "metadata": {},
   "outputs": [],
   "source": [
    "import json\n",
    "import os\n",
    "import requests\n",
    "import zipfile\n",
    "\n",
    "from datetime import datetime\n",
    "from tqdm import tqdm"
   ]
  },
  {
   "cell_type": "code",
   "execution_count": 22,
   "metadata": {},
   "outputs": [
    {
     "data": {
      "text/plain": [
       "'d:\\\\tmp\\\\_reveng\\\\audioeffect-qm\\\\resae'"
      ]
     },
     "execution_count": 22,
     "metadata": {},
     "output_type": "execute_result"
    }
   ],
   "source": [
    "os.getcwd()"
   ]
  },
  {
   "cell_type": "code",
   "execution_count": 23,
   "metadata": {},
   "outputs": [],
   "source": [
    "os.chdir('..')"
   ]
  },
  {
   "cell_type": "code",
   "execution_count": 21,
   "metadata": {},
   "outputs": [
    {
     "name": "stderr",
     "output_type": "stream",
     "text": [
      "100%|██████████| 11/11 [00:18<00:00,  1.64s/it]\n"
     ]
    }
   ],
   "source": [
    "src = 'resae/ugc.json'\n",
    "d = json.load(open(src))\n",
    "\n",
    "dst = os.path.splitext(src)[0]\n",
    "os.makedirs(dst, exist_ok=True)\n",
    "os.chdir(dst)\n",
    "\n",
    "for ae in tqdm(d['ugcAudioEffectItems']):\n",
    "\n",
    "    ae_id = ae['effectId']\n",
    "    ae_name = ae['effectName']\n",
    "    ae_url = ae['effectDownloadLink']\n",
    "    ae_ts = datetime.strptime(ae['createTime'], '%Y-%m-%d %H:%M:%S').timestamp()\n",
    "    target = f'{ae_id:04d}-{ae_name}.zip'\n",
    "\n",
    "    response = requests.get(ae_url)\n",
    "    with open(target, 'wb') as f:\n",
    "        f.write(response.content)\n",
    "    os.utime(target, (ae_ts, ae_ts))\n",
    "\n",
    "    zip_file = zipfile.ZipFile(target, 'r')\n",
    "    zip_file.extractall(dst)\n",
    "    zip_file.close()\n",
    "\n",
    "    try:\n",
    "        if len(os.listdir('AudioEffectPackage')) == 2:\n",
    "            target_new = f'{ae_id:04d}-{ae_name}.qmaep'\n",
    "            os.rename('AudioEffectPackage/AudioEffect.qmaep', target_new)\n",
    "            os.utime(target_new, (ae_ts, ae_ts))\n",
    "            os.remove(target)\n",
    "    except:\n",
    "        pass\n",
    "    for f in os.listdir('AudioEffectPackage'):\n",
    "        os.remove(os.path.join('AudioEffectPackage', f))\n",
    "\n",
    "os.chdir('..')"
   ]
  },
  {
   "cell_type": "code",
   "execution_count": null,
   "metadata": {},
   "outputs": [],
   "source": []
  }
 ],
 "metadata": {
  "kernelspec": {
   "display_name": "base",
   "language": "python",
   "name": "python3"
  },
  "language_info": {
   "codemirror_mode": {
    "name": "ipython",
    "version": 3
   },
   "file_extension": ".py",
   "mimetype": "text/x-python",
   "name": "python",
   "nbconvert_exporter": "python",
   "pygments_lexer": "ipython3",
   "version": "3.12.4"
  }
 },
 "nbformat": 4,
 "nbformat_minor": 2
}

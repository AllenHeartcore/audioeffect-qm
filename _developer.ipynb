{
 "cells": [
  {
   "cell_type": "code",
   "execution_count": 1,
   "metadata": {},
   "outputs": [],
   "source": [
    "import json\n",
    "import os\n",
    "import requests\n",
    "from tqdm import tqdm"
   ]
  },
  {
   "cell_type": "code",
   "execution_count": 2,
   "metadata": {},
   "outputs": [
    {
     "name": "stderr",
     "output_type": "stream",
     "text": [
      "100%|██████████| 11/11 [00:12<00:00,  1.14s/it]\n"
     ]
    }
   ],
   "source": [
    "src = 'resae/ugc.json'\n",
    "\n",
    "dst = os.path.splitext(src)[0]\n",
    "os.makedirs(dst, exist_ok=True)\n",
    "\n",
    "d = json.load(open(src))\n",
    "for ae in tqdm(d['ugcAudioEffectItems']):\n",
    "    ae_id = ae['effectId']\n",
    "    ae_name = ae['effectName']\n",
    "    ae_url = ae['effectDownloadLink']\n",
    "    response = requests.get(ae_url)\n",
    "    with open(os.path.join(dst, f'{ae_id}-{ae_name}.zip'), 'wb') as f:\n",
    "        f.write(response.content)"
   ]
  },
  {
   "cell_type": "code",
   "execution_count": null,
   "metadata": {},
   "outputs": [],
   "source": []
  }
 ],
 "metadata": {
  "kernelspec": {
   "display_name": "base",
   "language": "python",
   "name": "python3"
  },
  "language_info": {
   "codemirror_mode": {
    "name": "ipython",
    "version": 3
   },
   "file_extension": ".py",
   "mimetype": "text/x-python",
   "name": "python",
   "nbconvert_exporter": "python",
   "pygments_lexer": "ipython3",
   "version": "3.12.4"
  }
 },
 "nbformat": 4,
 "nbformat_minor": 2
}

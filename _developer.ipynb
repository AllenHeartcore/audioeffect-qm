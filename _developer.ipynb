{
 "cells": [
  {
   "cell_type": "code",
   "execution_count": 1,
   "metadata": {},
   "outputs": [],
   "source": [
    "import json\n",
    "import os\n",
    "import requests\n",
    "import zipfile\n",
    "\n",
    "from datetime import datetime"
   ]
  },
  {
   "cell_type": "code",
   "execution_count": 2,
   "metadata": {},
   "outputs": [
    {
     "data": {
      "text/plain": [
       "'d:\\\\tmp\\\\_reveng\\\\audioeffect-qm'"
      ]
     },
     "execution_count": 2,
     "metadata": {},
     "output_type": "execute_result"
    }
   ],
   "source": [
    "os.getcwd()"
   ]
  },
  {
   "cell_type": "code",
   "execution_count": 15,
   "metadata": {},
   "outputs": [],
   "source": [
    "os.chdir('..')"
   ]
  },
  {
   "cell_type": "code",
   "execution_count": 3,
   "metadata": {},
   "outputs": [
    {
     "name": "stdout",
     "output_type": "stream",
     "text": [
      "Downloading 0047-沉浸人声.zip\n",
      "Extracting 0047-沉浸人声.zip\n",
      "Downloading 0046-演唱现场.zip\n",
      "Extracting 0046-演唱现场.zip\n",
      "Downloading 0044-酒吧DJ舞曲动感节奏.zip\n",
      "Downloading 0043-超人电话亭.zip\n",
      "Extracting 0043-超人电话亭.zip\n",
      "Downloading 0038-绵言细语.zip\n",
      "Extracting 0038-绵言细语.zip\n",
      "Downloading 0045-人声现场.zip\n",
      "Downloading 0039-咚咚鼓声.zip\n",
      "Extracting 0039-咚咚鼓声.zip\n",
      "Downloading 0037-沉浸式车内环境重现.zip\n",
      "Downloading 0036-冰冷的房间.zip\n",
      "Downloading 0035-老式收音机.zip\n",
      "Extracting 0035-老式收音机.zip\n",
      "Downloading 0034-超宽环绕音域.zip\n",
      "Extracting 0034-超宽环绕音域.zip\n"
     ]
    }
   ],
   "source": [
    "src = 'resae/ugc.json'\n",
    "d = json.load(open(src))\n",
    "\n",
    "dst = os.path.splitext(src)[0]\n",
    "os.makedirs(dst, exist_ok=True)\n",
    "os.chdir(dst)\n",
    "\n",
    "for ae in d['ugcAudioEffectItems']:\n",
    "\n",
    "    ae_id = ae['effectId']\n",
    "    ae_name = ae['effectName']\n",
    "    ae_url = ae['effectDownloadLink']\n",
    "    ae_ts = datetime.strptime(ae['createTime'], '%Y-%m-%d %H:%M:%S').timestamp()\n",
    "    target = f'{ae_id:04d}-{ae_name}.zip'\n",
    "\n",
    "    print('Downloading', target)\n",
    "    response = requests.get(ae_url)\n",
    "    with open(target, 'wb') as f:\n",
    "        f.write(response.content)\n",
    "    os.utime(target, (ae_ts, ae_ts))\n",
    "\n",
    "    with zipfile.ZipFile(target, 'r') as fzip:\n",
    "        if len(fzip.namelist()) != 2:\n",
    "            continue\n",
    "        print('Extracting', target)\n",
    "        fzip.extractall()\n",
    "\n",
    "    try:\n",
    "        target_new = f'{ae_id:04d}-{ae_name}.qmaep'\n",
    "        os.rename('AudioEffectPackage/AudioEffect.qmaep', target_new)\n",
    "        os.utime(target_new, (ae_ts, ae_ts))\n",
    "        os.remove(target)\n",
    "    except:\n",
    "        pass\n",
    "\n",
    "# os.remove('AudioEffectPackage')\n",
    "os.chdir('../..')"
   ]
  },
  {
   "cell_type": "code",
   "execution_count": 4,
   "metadata": {},
   "outputs": [
    {
     "name": "stdout",
     "output_type": "stream",
     "text": [
      "Downloading 620-马歇尔_1833-Kilburn II.aep\n",
      "Downloading 506-BOSE_1825-Bose SoundLink Revolve+.aep\n",
      "Downloading 506-BOSE_1826-Bose Soundlink Mini II.aep\n",
      "Downloading 507-JBL_5017-Go Smart 2.aep\n",
      "Downloading 507-JBL_5016-Go.aep\n",
      "Downloading 507-JBL_1829-PULSE3.aep\n",
      "Downloading 507-JBL_1857-Xtreme2.aep\n",
      "Downloading 507-JBL_1828-PULSE4.aep\n",
      "Downloading 507-JBL_1830-CHARGE4.aep\n",
      "Downloading 623-天猫精灵_1852-方糖.aep\n",
      "Downloading 526-华为_1854-华为AI音箱.aep\n",
      "Downloading 616-酷狗_1815-K6智能音箱.aep\n",
      "Downloading 616-酷狗_1822-B1蘑菇小音.aep\n",
      "Downloading 616-酷狗_1817-潘多拉.aep\n",
      "Downloading 542-苹果_1827-HomePod.aep\n",
      "Downloading 591-哈曼卡顿_5009-SoundSticks Ⅲ.aep\n",
      "Downloading 591-哈曼卡顿_5010-Allure Portable.aep\n",
      "Downloading 591-哈曼卡顿_5011-Allure 音乐琥珀.aep\n",
      "Downloading 591-哈曼卡顿_5012-AURA Studio 2.aep\n",
      "Downloading 504-Beats_1853-Pill+.aep\n",
      "Downloading 545-小米_1831-小米AI音箱.aep\n",
      "Downloading 545-小米_5015-小爱音箱 Play.aep\n",
      "Downloading 545-小米_5013-小爱音箱 随身版.aep\n",
      "Downloading 545-小米_5014-小爱音箱 mini.aep\n",
      "Downloading 618-惠威_1832-M200MKIII.aep\n",
      "Downloading 550-索尼_1856-SRS-XB12.aep\n",
      "Downloading 626-百度_1855-小度XDH-0D-A1.aep\n",
      "Downloading 535-漫步者_5003-R103V.aep\n",
      "Downloading 535-漫步者_5002-R102V.aep\n",
      "Downloading 535-漫步者_5006-R12U.aep\n",
      "Downloading 535-漫步者_5001-R101V.aep\n",
      "Downloading 535-漫步者_5004-R88.aep\n",
      "Downloading 535-漫步者_5007-R18T.aep\n",
      "Downloading 535-漫步者_5021-R19U.aep\n",
      "Downloading 535-漫步者_5008-R26T.aep\n",
      "Downloading 535-漫步者_5005-R10U.aep\n",
      "Downloading 535-漫步者_5022-R1700BT.aep\n",
      "Downloading 535-漫步者_5020-S2000 MKII.aep\n",
      "Downloading 535-漫步者_5019-S301.aep\n",
      "Downloading 535-漫步者_5024-R201T.aep\n",
      "Downloading 535-漫步者_5018-S201.aep\n",
      "Downloading 535-漫步者_5023-R206P.aep\n"
     ]
    }
   ],
   "source": [
    "src = 'resae/soundbox.json'\n",
    "d = json.load(open(src))\n",
    "ts = d['timeStamp']\n",
    "\n",
    "dst = os.path.splitext(src)[0]\n",
    "os.makedirs(dst, exist_ok=True)\n",
    "os.chdir(dst)\n",
    "\n",
    "for v in d['vendorItems']:\n",
    "\n",
    "    v_id = v['vendorId']\n",
    "    v_name = v['vendorName']\n",
    "\n",
    "    for m in v['modelItems']:\n",
    "\n",
    "        m_id = m['modelId']\n",
    "        m_name = m['modelName']\n",
    "        m_url = m['modelAEPLink']\n",
    "        target = f'{v_id:03d}-{v_name}_{m_id:04d}-{m_name}.aep'\n",
    "\n",
    "        print('Downloading', target)\n",
    "        response = requests.get(m_url)\n",
    "        with open(target, 'wb') as f:\n",
    "            f.write(response.content)\n",
    "        os.utime(target, (ts, ts))\n",
    "\n",
    "os.chdir('../..')"
   ]
  },
  {
   "cell_type": "code",
   "execution_count": null,
   "metadata": {},
   "outputs": [],
   "source": []
  }
 ],
 "metadata": {
  "kernelspec": {
   "display_name": "base",
   "language": "python",
   "name": "python3"
  },
  "language_info": {
   "codemirror_mode": {
    "name": "ipython",
    "version": 3
   },
   "file_extension": ".py",
   "mimetype": "text/x-python",
   "name": "python",
   "nbconvert_exporter": "python",
   "pygments_lexer": "ipython3",
   "version": "3.12.4"
  }
 },
 "nbformat": 4,
 "nbformat_minor": 2
}
